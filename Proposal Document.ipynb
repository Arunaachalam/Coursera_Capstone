{
    "cells": [
        {
            "cell_type": "markdown",
            "metadata": {
                "collapsed": true
            },
            "source": "# A New Automated Transport System\n### How and where to set them? - The Dilemma"
        },
        {
            "cell_type": "markdown",
            "metadata": {},
            "source": "## Introduction"
        },
        {
            "cell_type": "markdown",
            "metadata": {},
            "source": "The purpose of this project is to identify the facilities where a new type of future transportation system can be constructed. On careful research, the city of Toronto is chosen as an example smart future city.\n\nPollution in the cities have become a major health hazard and the world is trying to reduce it by offering better public transportations in these areas and restricting automobile usage by encouraging the people to use public transportation. Recently, the public transportation was made free in Luxumbourg city which is a major step taken in the European countries.\n\nThough renting bicycles, E-scooters and other personal human powered vehicles are already available, there are issues in pick-up and delivery of such vehicles. So a new type of system was designed which works better in short distance transport.\n\nThe project aims to identify the potential areas where such systems can be employed successfully. The features include the distance between them and how to cluster the areas so that the maximum effect is achieved"
        },
        {
            "cell_type": "markdown",
            "metadata": {},
            "source": "## To Solve"
        },
        {
            "cell_type": "markdown",
            "metadata": {},
            "source": "1. Where are the maximum people movement take place?\n2. How and where can the stations be installed?"
        },
        {
            "cell_type": "markdown",
            "metadata": {},
            "source": "## Methodology and Assumptions"
        },
        {
            "cell_type": "markdown",
            "metadata": {},
            "source": "As the population census is not necessary for this project, the movement of people is calculated by the number of shops or facilities available in a certain area. The more shops there, the possibility of people gathering there will be higher.\n\nExploring the data from Foursquare about the available shops and landmarks, the potential areas are determined and clustered based on their distance. The project will follow the following steps:\n\n1. Database with local areas and locations based on postal codes and Boroughs\n2. Getting exploration data from Foursquare and cleaning the data \n3. Find distance between the shops and cluster them\n4. Identify the number of stations required and their locations"
        },
        {
            "cell_type": "markdown",
            "metadata": {},
            "source": "# Libraries used"
        },
        {
            "cell_type": "markdown",
            "metadata": {},
            "source": "- pandas: for creating and manipulating dataframes\n- Folium: python visualization of maps\n- Scikit-learn: K-means clustering\n- JSON - handle JSON files\n- geocoder - locatin data"
        },
        {
            "cell_type": "markdown",
            "metadata": {},
            "source": "## DATA NEEDED"
        },
        {
            "cell_type": "markdown",
            "metadata": {},
            "source": "The data needed for this project is\n- Postal Code\n- Boroughs\n- Neighborhoods\n- Geographic Locations\n- Foursquare API JSON files\n- No of attractions/shops per each area\n- location of attractions\n- category of attraction\n- attraction name"
        },
        {
            "cell_type": "code",
            "execution_count": null,
            "metadata": {},
            "outputs": [],
            "source": ""
        }
    ],
    "metadata": {
        "kernelspec": {
            "display_name": "Python 3.6",
            "language": "python",
            "name": "python3"
        },
        "language_info": {
            "codemirror_mode": {
                "name": "ipython",
                "version": 3
            },
            "file_extension": ".py",
            "mimetype": "text/x-python",
            "name": "python",
            "nbconvert_exporter": "python",
            "pygments_lexer": "ipython3",
            "version": "3.6.9"
        }
    },
    "nbformat": 4,
    "nbformat_minor": 1
}